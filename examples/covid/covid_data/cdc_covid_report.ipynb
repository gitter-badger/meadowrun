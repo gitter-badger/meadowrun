{
 "cells": [
  {
   "cell_type": "code",
   "execution_count": null,
   "id": "aeec6001",
   "metadata": {},
   "outputs": [],
   "source": [
    "import datetime\n",
    "import pandas as pd\n",
    "import IPython.display\n",
    "\n",
    "import nextbeat.context\n",
    "import covid_data.ndb"
   ]
  },
  {
   "cell_type": "code",
   "execution_count": null,
   "id": "fd4bbb79",
   "metadata": {
    "tags": [
     "parameters"
    ]
   },
   "outputs": [],
   "source": [
    "date = nextbeat.context.variables().get(\"date\", datetime.date(2021, 10, 11))"
   ]
  },
  {
   "cell_type": "code",
   "execution_count": null,
   "id": "415d3069",
   "metadata": {},
   "outputs": [],
   "source": [
    "conn = covid_data.ndb.ndb_test()\n",
    "\n",
    "data_columns = [\"tot_cases\", \"new_case\", \"tot_death\", \"new_death\"]\n",
    "all_columns = [\"submission_date\", \"state\"] + data_columns\n",
    "\n",
    "t = conn.read(\"cdc_covid_data\")\n",
    "raw_df = t[t[\"submission_date\"] == pd.to_datetime(date)][all_columns].to_pd()\n",
    "\n",
    "t = conn.read(\"cdc_covid_data_smoothed\")\n",
    "smoothed_df = t[t[\"submission_date\"] == pd.to_datetime(date)][all_columns].to_pd()\n",
    "\n",
    "data_columns_with_smoothed = [f\"{c}{suffix}\" for c in data_columns for suffix in [\"\", \"_smoothed\"]]\n",
    "df = (\n",
    "    raw_df.merge(smoothed_df, on=[\"submission_date\", \"state\"], suffixes=(\"\", \"_smoothed\"))\n",
    "    [[\"state\"] + data_columns_with_smoothed]\n",
    "    .sort_values([\"new_death\", \"tot_death\"], ascending=False)\n",
    ")"
   ]
  },
  {
   "cell_type": "code",
   "execution_count": null,
   "id": "6481cb8b",
   "metadata": {},
   "outputs": [],
   "source": [
    "IPython.display.display(IPython.display.Markdown(f\"# Covid report for {date}\"))"
   ]
  },
  {
   "cell_type": "markdown",
   "id": "5ff7cc17",
   "metadata": {},
   "source": [
    "## Totals"
   ]
  },
  {
   "cell_type": "code",
   "execution_count": null,
   "id": "0c25cb50",
   "metadata": {},
   "outputs": [],
   "source": [
    "df[data_columns_with_smoothed].sum().to_frame().T.style.format(\"{:,.0f}\", subset=data_columns_with_smoothed).hide_index()"
   ]
  },
  {
   "cell_type": "markdown",
   "id": "a9554fb1",
   "metadata": {},
   "source": [
    "## By state"
   ]
  },
  {
   "cell_type": "code",
   "execution_count": null,
   "id": "b37e62dd",
   "metadata": {},
   "outputs": [],
   "source": [
    "df.style.format(\"{:,.0f}\", subset=data_columns_with_smoothed).hide_index()"
   ]
  }
 ],
 "metadata": {
  "kernelspec": {
   "display_name": "Python 3 (ipykernel)",
   "language": "python",
   "name": "python3"
  },
  "language_info": {
   "codemirror_mode": {
    "name": "ipython",
    "version": 3
   },
   "file_extension": ".py",
   "mimetype": "text/x-python",
   "name": "python",
   "nbconvert_exporter": "python",
   "pygments_lexer": "ipython3",
   "version": "3.9.6"
  }
 },
 "nbformat": 4,
 "nbformat_minor": 5
}
